{
 "cells": [
  {
   "cell_type": "code",
   "execution_count": 52,
   "metadata": {
    "collapsed": true
   },
   "outputs": [],
   "source": [
    "from datetime import datetime, timedelta\n",
    "import xlrd\n",
    "\n",
    "import pandas"
   ]
  },
  {
   "cell_type": "code",
   "execution_count": 54,
   "metadata": {},
   "outputs": [
    {
     "name": "stdout",
     "output_type": "stream",
     "text": [
      "客户类 - 商务活动记录——客户类\n",
      "投资类 - 商务活动记录——投资类\n",
      "学术类 - 商务活动记录——学术类\n",
      "其他交流类 - 商务活动记录——其他交流类\n",
      "好东西 - 商务活动记录——其他交流类\n"
     ]
    }
   ],
   "source": [
    "xlsx_path = '/Users/shniu/Desktop/business_records.xlsx'\n",
    "\n",
    "workbook = xlrd.open_workbook(xlsx_path)\n",
    "for sheet in workbook.sheets():\n",
    "    print(sheet.name)"
   ]
  },
  {
   "cell_type": "code",
   "execution_count": 81,
   "metadata": {
    "scrolled": false
   },
   "outputs": [],
   "source": [
    "def caculate_end_date(note_index, s_date, s_index=5):\n",
    "    diff_index = note_index - s_index\n",
    "    start_datetime = datetime.strptime(s_date, '%Y-%m-%d')\n",
    "    end_datetime = start_datetime + timedelta(days=diff_index)\n",
    "    \n",
    "    return end_datetime.strftime('%Y.%m.%d')\n",
    "\n",
    "\n",
    "def split_records_by_name(raw_sheet, org_index=2, s_date=None, s_index=5):\n",
    "    new_sheets = {}\n",
    "    \n",
    "    for note_rows_cols, note in raw_sheet.cell_note_map.items():\n",
    "        org_name = raw_sheet.cell_value(note_rows_cols[0], org_index)\n",
    "        updated_on = caculate_end_date(note_rows_cols[1], s_date, s_index=s_index)\n",
    "        \n",
    "        note_text = note.text\n",
    "        note_text = note_text.replace('limeng qian:\\n', '')\n",
    "#         note_text = note_text.replace('\\n', '')\n",
    "        \n",
    "        tmp_df = pd.DataFrame(data=[[updated_on, note_text, note_rows_cols[1]]],\n",
    "                              columns=['date', 'content', 'colx'])\n",
    "        \n",
    "        if org_name not in new_sheets:\n",
    "            new_sheets[org_name] = tmp_df\n",
    "        else:\n",
    "            new_sheets[org_name] = pd.concat([new_sheets[org_name], tmp_df], ignore_index=True)\n",
    "            \n",
    "    return new_sheets\n",
    "\n",
    "\n",
    "def save(sheets, file_name):\n",
    "    print(file_name)\n",
    "    writer = pd.ExcelWriter(file_name)\n",
    "    \n",
    "    for org_name, df in sheets.items():\n",
    "        df = df.sort_values(by='colx')\n",
    "        df[['date', 'content']].to_excel(writer, org_name, index=False)\n",
    "        \n",
    "    writer.save()"
   ]
  },
  {
   "cell_type": "code",
   "execution_count": 82,
   "metadata": {},
   "outputs": [
    {
     "name": "stdout",
     "output_type": "stream",
     "text": [
      "客户类-商务活动记录——客户类.xlsx\n",
      "投资类-商务活动记录——投资类.xlsx\n",
      "学术类-商务活动记录——学术类.xlsx\n",
      "其他交流类-商务活动记录——其他交流类.xlsx\n",
      "好东西-商务活动记录——其他交流类.xlsx\n"
     ]
    }
   ],
   "source": [
    "configs = {\n",
    "    'common': {\n",
    "        'start_index':  5,\n",
    "        'start_date': '2017-07-24',\n",
    "        'org_index': 2\n",
    "    },\n",
    "    '投资类 - 商务活动记录——投资类': {\n",
    "        'start_index':  3,\n",
    "        'start_date': '2017-07-24',\n",
    "        'org_index': 1\n",
    "    },\n",
    "    '学术类 - 商务活动记录——学术类': {\n",
    "        'start_index':  3,\n",
    "        'start_date': '2017-07-24',\n",
    "        'org_index': 1\n",
    "    },\n",
    "    '其他交流类 - 商务活动记录——其他交流类': {\n",
    "        'start_index':  3,\n",
    "        'start_date': '2017-07-24',\n",
    "        'org_index': 1\n",
    "    },\n",
    "    '好东西 - 商务活动记录——其他交流类': {\n",
    "        'start_index':  3,\n",
    "        'start_date': '2017-07-24',\n",
    "        'org_index': 1\n",
    "    },\n",
    "}\n",
    "\n",
    "for sheet in workbook.sheets():\n",
    "    config = configs.get(sheet.name, configs['common'])\n",
    "    file_name = '%s.xlsx' % sheet.name.replace(' ', '')\n",
    "    save(split_records_by_name(sheet, \n",
    "                               org_index=config['org_index'], \n",
    "                               s_date=config['start_date'],\n",
    "                              s_index=config['start_index']), \n",
    "         file_name)"
   ]
  },
  {
   "cell_type": "code",
   "execution_count": null,
   "metadata": {
    "collapsed": true
   },
   "outputs": [],
   "source": [
    ""
   ]
  }
 ],
 "metadata": {},
 "nbformat": 4,
 "nbformat_minor": 0
}